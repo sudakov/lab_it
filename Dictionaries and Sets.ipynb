{
 "cells": [
  {
   "cell_type": "markdown",
   "metadata": {},
   "source": [
    "## Поддержка отображений"
   ]
  },
  {
   "cell_type": "code",
   "execution_count": null,
   "metadata": {},
   "outputs": [],
   "source": [
    "from collections import abc\n",
    "my_dict = {}\n",
    "isinstance(my_dict, abc.Mapping)"
   ]
  },
  {
   "cell_type": "code",
   "execution_count": null,
   "metadata": {},
   "outputs": [],
   "source": [
    "tt = (1, 2, (30, 40))\n",
    "hash(tt)"
   ]
  },
  {
   "cell_type": "code",
   "execution_count": null,
   "metadata": {},
   "outputs": [],
   "source": [
    "tl = (1, 2, [30, 40]) \n",
    "hash(tl)"
   ]
  },
  {
   "cell_type": "code",
   "execution_count": null,
   "metadata": {},
   "outputs": [],
   "source": [
    "a = dict(one=1, two=2, three=3)\n",
    "b = {'one': 1, 'two': 2, 'three': 3}\n",
    "c = dict(zip(['one', 'two', 'three'], [1, 2, 3]))\n",
    "d = dict([('two', 2), ('one', 1), ('three', 3)]) \n",
    "e = dict({'three': 3, 'one': 1, 'two': 2})\n",
    "a == b == c == d == e"
   ]
  },
  {
   "cell_type": "markdown",
   "metadata": {},
   "source": [
    "Словарное включение"
   ]
  },
  {
   "cell_type": "code",
   "execution_count": null,
   "metadata": {},
   "outputs": [],
   "source": [
    "DIAL_CODES = [\n",
    "    (86, 'China'),\n",
    "    (91, 'India'),\n",
    "    (1, 'United States'),\n",
    "    (62, 'Indonesia'),\n",
    "    (55, 'Brazil'),\n",
    "    (92, 'Pakistan'),\n",
    "    (880, 'Bangladesh'),\n",
    "    (234, 'Nigeria'),\n",
    "    (7, 'Russia'),\n",
    "    (81, 'Japan'),\n",
    "]\n",
    "dict(DIAL_CODES)\n",
    "country_code = {country: code for code, country in DIAL_CODES}\n",
    "country_code = {x[1]: x[0] for x in DIAL_CODES}\n",
    "country_code"
   ]
  },
  {
   "cell_type": "code",
   "execution_count": null,
   "metadata": {},
   "outputs": [],
   "source": [
    "{code: country.upper() for country, code in country_code.items() if code < 66}"
   ]
  },
  {
   "cell_type": "markdown",
   "metadata": {},
   "source": [
    "## Поиск вхождений"
   ]
  },
  {
   "cell_type": "code",
   "execution_count": null,
   "metadata": {},
   "outputs": [],
   "source": [
    "import re\n",
    "\n",
    "WORD_RE = re.compile('\\w+')\n",
    "\n",
    "index = {}\n",
    "\n",
    "with open(\"text.txt\") as fp: \n",
    "    for line_no, line in enumerate(fp, 1):        \n",
    "        for match in WORD_RE.finditer(line):\n",
    "            word = match.group().lower()\n",
    "            \n",
    "            column_no = match.start() + 1\n",
    "            \n",
    "            location = (line_no, column_no)\n",
    "            \n",
    "            if word not in index:\n",
    "                index[word] = [location]\n",
    "            else:\n",
    "                index[word].append(location)\n",
    "\n",
    "            \n",
    "for word in sorted(index, key=str.upper): \n",
    "    print(word, index[word])"
   ]
  },
  {
   "cell_type": "code",
   "execution_count": null,
   "metadata": {},
   "outputs": [],
   "source": [
    "import re\n",
    "\n",
    "WORD_RE = re.compile('\\w+')\n",
    "\n",
    "index = {}\n",
    "\n",
    "with open(\"text.txt\") as fp: \n",
    "    for line_no, line in enumerate(fp, 1):        \n",
    "        for match in WORD_RE.finditer(line):\n",
    "            word = match.group().lower()\n",
    "            \n",
    "            column_no = match.start() + 1\n",
    "            \n",
    "            location = (line_no, column_no)\n",
    "            \n",
    "            occurrences = index.get(word,[]) \n",
    "            occurrences.append(location)\n",
    "            index[word] = occurrences\n",
    "            \n",
    "for word in sorted(index, key=str.upper): \n",
    "    print(word, index[word])"
   ]
  },
  {
   "cell_type": "code",
   "execution_count": null,
   "metadata": {},
   "outputs": [],
   "source": [
    "import re\n",
    "\n",
    "WORD_RE = re.compile('\\w+')\n",
    "\n",
    "index = {}\n",
    "\n",
    "with open(\"text.txt\") as fp:\n",
    "    \n",
    "    for line_no, line in enumerate(fp, 1): \n",
    "        \n",
    "        for match in WORD_RE.finditer(line):\n",
    "            \n",
    "            word = match.group().lower()\n",
    "            \n",
    "            column_no = match.start()+1\n",
    "            \n",
    "            location = (line_no, column_no)\n",
    "            \n",
    "            # Хороший код:\n",
    "            index.setdefault(word, []).append(location)\n",
    "            \n",
    "for word in sorted(index, key=str.upper): \n",
    "    print(word, index[word])"
   ]
  },
  {
   "cell_type": "code",
   "execution_count": null,
   "metadata": {},
   "outputs": [],
   "source": [
    "import re\n",
    "import collections \n",
    "WORD_RE = re.compile('\\w+')\n",
    "index = collections.defaultdict(list)\n",
    "with open(\"text.txt\") as fp:\n",
    "    for line_no, line in enumerate(fp, 1): \n",
    "        for match in WORD_RE.finditer(line):\n",
    "            word = match.group().lower()\n",
    "            column_no = match.start()+1\n",
    "            location = (line_no, column_no)\n",
    "            index[word].append(location)\n",
    "for word in sorted(index, key=str.upper): \n",
    "    print(word, index[word])"
   ]
  },
  {
   "cell_type": "code",
   "execution_count": null,
   "metadata": {},
   "outputs": [],
   "source": [
    "class StrKeyDict0(dict):\n",
    "    pass\n",
    "d = StrKeyDict0([('2', 'two'), ('4', 'four')])\n",
    "print(d['2'])\n",
    "d[2]"
   ]
  },
  {
   "cell_type": "code",
   "execution_count": null,
   "metadata": {},
   "outputs": [],
   "source": [
    "class StrKeyDict1(dict):\n",
    "    def __missing__(self, key): \n",
    "        if isinstance(key, str):\n",
    "            raise KeyError(key) \n",
    "        return self[str(key)]\n",
    "    \n",
    "    def get(self, key, default=None): \n",
    "        try:\n",
    "            return self[key] \n",
    "        except KeyError:\n",
    "            return default\n",
    "    \n",
    "    def __contains__(self, key):\n",
    "        return key in self.keys() or str(key) in self.keys()\n",
    "    \n",
    "d = StrKeyDict1([('2', 'two'), ('4', 'four')])\n",
    "print(d['2'])\n",
    "print(d[2])"
   ]
  },
  {
   "cell_type": "markdown",
   "metadata": {},
   "source": [
    "## Объединение"
   ]
  },
  {
   "cell_type": "code",
   "execution_count": null,
   "metadata": {},
   "outputs": [],
   "source": [
    "a={\"a\":1}\n",
    "a.update({\"b\":2})\n",
    "a"
   ]
  },
  {
   "cell_type": "code",
   "execution_count": null,
   "metadata": {},
   "outputs": [],
   "source": [
    "{\"aa\":44, **a}"
   ]
  },
  {
   "cell_type": "code",
   "execution_count": null,
   "metadata": {},
   "outputs": [],
   "source": [
    "\n",
    "def f(**l):\n",
    "    print(l)\n",
    "\n",
    "f(a=1, b=3, c=4)"
   ]
  },
  {
   "cell_type": "markdown",
   "metadata": {},
   "source": [
    "Особые отображения:\n",
    "collections.OrderedDict\n",
    "collections.ChainMap\n",
    "collections.Counter"
   ]
  },
  {
   "cell_type": "code",
   "execution_count": null,
   "metadata": {},
   "outputs": [],
   "source": [
    "import collections\n",
    "ct = collections.Counter('abracadabra')\n",
    "print(ct)\n",
    "ct.update('aaaaazzz')\n",
    "print(ct)\n",
    "print(ct.most_common(2))"
   ]
  },
  {
   "cell_type": "markdown",
   "metadata": {},
   "source": [
    "## Множесва"
   ]
  },
  {
   "cell_type": "code",
   "execution_count": null,
   "metadata": {},
   "outputs": [],
   "source": [
    "l = ['pork', 'pork', 'eggs', 'pork'] \n",
    "'pork' in l\n",
    "s = set(l)\n",
    "'pork' in s"
   ]
  },
  {
   "cell_type": "code",
   "execution_count": null,
   "metadata": {},
   "outputs": [],
   "source": [
    "{'pork', 'pork', 'eggs', 'pork'}"
   ]
  },
  {
   "cell_type": "code",
   "execution_count": null,
   "metadata": {},
   "outputs": [],
   "source": [
    "set()"
   ]
  },
  {
   "cell_type": "code",
   "execution_count": null,
   "metadata": {},
   "outputs": [],
   "source": [
    "{'eggs', 'pork'} & {'beef', 'eggs'}"
   ]
  },
  {
   "cell_type": "code",
   "execution_count": null,
   "metadata": {},
   "outputs": [],
   "source": [
    "{'eggs', 'pork'} & set()"
   ]
  },
  {
   "cell_type": "code",
   "execution_count": null,
   "metadata": {},
   "outputs": [],
   "source": [
    "{'eggs', 'pork'} > {'pork'}"
   ]
  },
  {
   "cell_type": "code",
   "execution_count": null,
   "metadata": {},
   "outputs": [],
   "source": [
    "'d' in set('df')"
   ]
  },
  {
   "cell_type": "markdown",
   "metadata": {},
   "source": [
    "## Глобальные переменные"
   ]
  },
  {
   "cell_type": "code",
   "execution_count": null,
   "metadata": {},
   "outputs": [],
   "source": [
    "a = 1\n",
    "def f(x):\n",
    "    print(a)\n",
    "    # a += 1 # чего делать будем?\n",
    "    return a+x\n",
    "\n",
    "f(1)"
   ]
  },
  {
   "cell_type": "code",
   "execution_count": null,
   "metadata": {},
   "outputs": [],
   "source": []
  }
 ],
 "metadata": {
  "kernelspec": {
   "display_name": "Python 3",
   "language": "python",
   "name": "python3"
  },
  "language_info": {
   "codemirror_mode": {
    "name": "ipython",
    "version": 3
   },
   "file_extension": ".py",
   "mimetype": "text/x-python",
   "name": "python",
   "nbconvert_exporter": "python",
   "pygments_lexer": "ipython3",
   "version": "3.8.4"
  }
 },
 "nbformat": 4,
 "nbformat_minor": 2
}
