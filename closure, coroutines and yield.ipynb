{
 "cells": [
  {
   "cell_type": "code",
   "execution_count": null,
   "metadata": {},
   "outputs": [],
   "source": [
    "class Averager():\n",
    "\n",
    "    def __init__(self):\n",
    "        self.series = []\n",
    "\n",
    "    def __call__(self, new_value):\n",
    "        self.series.append(new_value)\n",
    "        total = sum(self.series)\n",
    "        return total/len(self.series)"
   ]
  },
  {
   "cell_type": "code",
   "execution_count": null,
   "metadata": {},
   "outputs": [],
   "source": [
    "avg = Averager()"
   ]
  },
  {
   "cell_type": "code",
   "execution_count": null,
   "metadata": {},
   "outputs": [],
   "source": [
    "type(avg)"
   ]
  },
  {
   "cell_type": "code",
   "execution_count": null,
   "metadata": {},
   "outputs": [],
   "source": [
    "avg(10)"
   ]
  },
  {
   "cell_type": "code",
   "execution_count": null,
   "metadata": {},
   "outputs": [],
   "source": [
    "avg(12)"
   ]
  },
  {
   "cell_type": "markdown",
   "metadata": {},
   "source": [
    "## Функция высшего порядка"
   ]
  },
  {
   "cell_type": "code",
   "execution_count": null,
   "metadata": {},
   "outputs": [],
   "source": [
    "def make_averager():\n",
    "    series = []\n",
    "\n",
    "    def averager(new_value):\n",
    "        series.append(new_value)\n",
    "        total = sum(series)\n",
    "        return total/len(series)\n",
    "\n",
    "    return averager"
   ]
  },
  {
   "cell_type": "code",
   "execution_count": null,
   "metadata": {},
   "outputs": [],
   "source": [
    "avg = make_averager()\n",
    "avg1 = make_averager()"
   ]
  },
  {
   "cell_type": "code",
   "execution_count": null,
   "metadata": {},
   "outputs": [],
   "source": [
    "avg(10)"
   ]
  },
  {
   "cell_type": "code",
   "execution_count": null,
   "metadata": {},
   "outputs": [],
   "source": [
    "avg(7)"
   ]
  },
  {
   "cell_type": "code",
   "execution_count": null,
   "metadata": {},
   "outputs": [],
   "source": [
    "avg(20)"
   ]
  },
  {
   "cell_type": "code",
   "execution_count": null,
   "metadata": {},
   "outputs": [],
   "source": [
    "avg1(100)"
   ]
  },
  {
   "cell_type": "markdown",
   "metadata": {},
   "source": [
    "## Сопрограммы\n",
    "Сопрограммы (от англ. coroutines) — методика связи программных модулей друг с другом по принципу кооперативной многозадачности: модуль приостанавливается в определённой точке, сохраняя полное состояние (включая стек вызовов и счётчик команд), и передаёт управление другому. Тот, в свою очередь, выполняет задачу и передаёт управление обратно, сохраняя свои стек и счётчик."
   ]
  },
  {
   "cell_type": "code",
   "execution_count": null,
   "metadata": {},
   "outputs": [],
   "source": [
    "import asyncio"
   ]
  },
  {
   "cell_type": "code",
   "execution_count": null,
   "metadata": {},
   "outputs": [],
   "source": [
    "async def main():\n",
    "    print('hello')\n",
    "    await asyncio.sleep(1)\n",
    "    print('world')"
   ]
  },
  {
   "cell_type": "code",
   "execution_count": null,
   "metadata": {},
   "outputs": [],
   "source": [
    "await main()\n",
    "# asyncio.run(main())"
   ]
  },
  {
   "cell_type": "code",
   "execution_count": null,
   "metadata": {},
   "outputs": [],
   "source": [
    "main()"
   ]
  },
  {
   "cell_type": "code",
   "execution_count": null,
   "metadata": {},
   "outputs": [],
   "source": [
    "import time\n",
    "\n",
    "async def say_after(delay, what):\n",
    "    await asyncio.sleep(delay)\n",
    "    print(what)\n",
    "\n",
    "async def main():\n",
    "    print(f\"started at {time.strftime('%X')}\")\n",
    "\n",
    "    await say_after(1, 'hello')\n",
    "    print(1)\n",
    "    await say_after(2, 'world')\n",
    "\n",
    "    print(f\"finished at {time.strftime('%X')}\")\n",
    "          \n",
    "await main()        "
   ]
  },
  {
   "cell_type": "code",
   "execution_count": null,
   "metadata": {},
   "outputs": [],
   "source": [
    "async def main():\n",
    "    task1 = asyncio.create_task(\n",
    "        say_after(1, 'hello'))\n",
    "\n",
    "    task2 = asyncio.create_task(\n",
    "        say_after(2, 'world'))\n",
    "\n",
    "    print(f\"started at {time.strftime('%X')}\")\n",
    "\n",
    "    # Wait until both tasks are completed (should take\n",
    "    # around 2 seconds.)\n",
    "    await task1\n",
    "    await task2\n",
    "\n",
    "    print(f\"finished at {time.strftime('%X')}\")\n",
    "          \n",
    "await main()             "
   ]
  },
  {
   "cell_type": "code",
   "execution_count": null,
   "metadata": {},
   "outputs": [],
   "source": [
    "import asyncio\n",
    "\n",
    "async def nested(i):\n",
    "    print(f\"from nested {i}\")\n",
    "    return 42\n",
    "\n",
    "async def main():\n",
    "    # Nothing happens if we just call \"nested()\".\n",
    "    # A coroutine object is created but not awaited,\n",
    "    # so it *won't run at all*.\n",
    "    nested(1)\n",
    "\n",
    "    # Let's do it differently now and await it:\n",
    "    print(await nested(2))  # will print \"42\".\n",
    "    \n",
    "await main()  "
   ]
  },
  {
   "cell_type": "markdown",
   "metadata": {},
   "source": [
    "## Task используется для планирования параллельного выполнения coroutine"
   ]
  },
  {
   "cell_type": "code",
   "execution_count": null,
   "metadata": {},
   "outputs": [],
   "source": [
    "import asyncio\n",
    "\n",
    "async def nested(i):\n",
    "    print(f\"from nested {i}\")\n",
    "    return 42\n",
    "\n",
    "async def main():\n",
    "    # Schedule nested() to run soon concurrently\n",
    "    # with \"main()\".\n",
    "    task = asyncio.create_task(nested(1))\n",
    "    # await asyncio.sleep(1)\n",
    "    print(\"hello from main\")\n",
    "    # \"task\" can now be used to cancel \"nested()\", or\n",
    "    # can simply be awaited to wait until it is complete:\n",
    "    await task\n",
    "\n",
    "await main()"
   ]
  },
  {
   "cell_type": "code",
   "execution_count": null,
   "metadata": {},
   "outputs": [],
   "source": [
    "import asyncio\n",
    "\n",
    "async def factorial(name, number):\n",
    "    f = 1\n",
    "    for i in range(2, number + 1):\n",
    "        print(f\"Task {name}: Compute factorial({i})...\")\n",
    "        await asyncio.sleep(1)\n",
    "        f *= i\n",
    "    print(f\"Task {name}: factorial({number}) = {f}\")\n",
    "\n",
    "async def main():\n",
    "    # Schedule three calls *concurrently*:\n",
    "    await asyncio.gather(\n",
    "        factorial(\"A\", 2),\n",
    "        factorial(\"B\", 3),\n",
    "        factorial(\"C\", 4),\n",
    "    )\n",
    "    \n",
    "await main()    "
   ]
  },
  {
   "cell_type": "code",
   "execution_count": null,
   "metadata": {},
   "outputs": [],
   "source": [
    "await factorial(\"A\", 2)\n",
    "print(1)\n",
    "await factorial(\"B\", 3)\n",
    "print(2)\n",
    "await factorial(\"C\", 4)"
   ]
  },
  {
   "cell_type": "code",
   "execution_count": null,
   "metadata": {},
   "outputs": [],
   "source": [
    "async def eternity():\n",
    "    # Sleep for one hour\n",
    "    await asyncio.sleep(3600)\n",
    "    print('yay!')\n",
    "\n",
    "async def main():\n",
    "    # Wait for at most 1 second\n",
    "    try:\n",
    "        await asyncio.wait_for(eternity(), timeout=1.0)\n",
    "    except asyncio.TimeoutError:\n",
    "        print('timeout!')\n",
    "        \n",
    "await main()    "
   ]
  },
  {
   "cell_type": "code",
   "execution_count": null,
   "metadata": {},
   "outputs": [],
   "source": [
    "import asyncio\n",
    "import random\n",
    "\n",
    "# ANSI colors\n",
    "c = (\n",
    "    \"\\033[0m\",   # End of color\n",
    "    \"\\033[36m\",  # Cyan\n",
    "    \"\\033[91m\",  # Red\n",
    "    \"\\033[35m\",  # Magenta\n",
    ")\n",
    "\n",
    "async def makerandom(idx: int, threshold: int = 6) -> int:\n",
    "    print(c[idx + 1] + f\"Initiated makerandom({idx}).\")\n",
    "    i = random.randint(0, 10)\n",
    "    while i <= threshold:\n",
    "        print(c[idx + 1] + f\"makerandom({idx}) == {i} too low; retrying.\")\n",
    "        await asyncio.sleep(idx + 1)\n",
    "        i = random.randint(0, 10)\n",
    "    print(c[idx + 1] + f\"---> Finished: makerandom({idx}) == {i}\" + c[0])\n",
    "    return i\n",
    "\n",
    "async def main():\n",
    "    res = await asyncio.gather(*(makerandom(i, 10 - i - 1) for i in range(3)))\n",
    "    return res\n",
    "\n",
    "\n",
    "random.seed(444)\n",
    "r1, r2, r3 = await main()\n",
    "print()\n",
    "print(f\"r1: {r1}, r2: {r2}, r3: {r3}\")"
   ]
  },
  {
   "cell_type": "code",
   "execution_count": null,
   "metadata": {},
   "outputs": [],
   "source": [
    "async def f(i):\n",
    "    i += 1\n",
    "    yield i\n",
    "    i += 1\n",
    "    yield i\n",
    "\n",
    "\n",
    "async for res in f(10):\n",
    "    print(res)"
   ]
  },
  {
   "cell_type": "code",
   "execution_count": null,
   "metadata": {},
   "outputs": [],
   "source": [
    "import random\n",
    "import collections\n",
    "import queue\n",
    "import argparse\n",
    "import time\n",
    "\n",
    "DEFAULT_NUMBER_OF_TAXIS = 3\n",
    "DEFAULT_END_TIME = 180\n",
    "SEARCH_DURATION = 5\n",
    "TRIP_DURATION = 20\n",
    "DEPARTURE_INTERVAL = 5\n",
    "\n",
    "Event = collections.namedtuple('Event', 'time proc action')\n",
    "Event(1,\"С кем случилось\",\"что случилось\")"
   ]
  },
  {
   "cell_type": "code",
   "execution_count": null,
   "metadata": {},
   "outputs": [],
   "source": [
    "# BEGIN TAXI_PROCESS\n",
    "def taxi_process(ident, trips, start_time=0):  \n",
    "    time = yield Event(start_time, ident, 'leave garage')  \n",
    "    for i in range(trips): \n",
    "        time = yield Event(time, ident, 'pick up passenger') \n",
    "        time = yield Event(time, ident, 'drop off passenger') \n",
    "    yield Event(time, ident, 'going home')  \n",
    "\n",
    "class Simulator:\n",
    "\n",
    "    def __init__(self, procs_map):\n",
    "        self.events = queue.PriorityQueue()\n",
    "        self.procs = dict(procs_map)\n",
    "\n",
    "    def run(self, end_time):  # <1>\n",
    "        \"\"\"Schedule and display events until time is up\"\"\"\n",
    "        # schedule the first event for each cab\n",
    "        for _, proc in sorted(self.procs.items()):  \n",
    "            first_event = next(proc)  # <3>\n",
    "            self.events.put(first_event)  # <4>\n",
    "\n",
    "        # main loop of the simulation\n",
    "        sim_time = 0  # <5>\n",
    "        while sim_time < end_time:\n",
    "            if self.events.empty(): \n",
    "                print('*** end of events ***')\n",
    "                break\n",
    "\n",
    "            current_event = self.events.get()\n",
    "            sim_time, proc_id, previous_action = current_event \n",
    "            print('taxi:', proc_id, proc_id * '   ', current_event) \n",
    "            active_proc = self.procs[proc_id]\n",
    "            next_time = sim_time + compute_duration(previous_action)\n",
    "            try:\n",
    "                next_event = active_proc.send(next_time)\n",
    "            except StopIteration:\n",
    "                del self.procs[proc_id] \n",
    "            else:\n",
    "                self.events.put(next_event)\n",
    "        else: \n",
    "            msg = '*** end of simulation time: {} events pending ***'\n",
    "            print(msg.format(self.events.qsize()))\n",
    "# END TAXI_SIMULATOR\n",
    "\n",
    "\n",
    "def compute_duration(previous_action):\n",
    "    \"\"\"Compute action duration using exponential distribution\"\"\"\n",
    "    if previous_action in ['leave garage', 'drop off passenger']:\n",
    "        # new state is prowling\n",
    "        interval = SEARCH_DURATION\n",
    "    elif previous_action == 'pick up passenger':\n",
    "        # new state is trip\n",
    "        interval = TRIP_DURATION\n",
    "    elif previous_action == 'going home':\n",
    "        interval = 1\n",
    "    else:\n",
    "        raise ValueError('Unknown previous_action: %s' % previous_action)\n",
    "    return int(random.expovariate(1/interval)) + 1\n",
    "\n",
    "\n",
    "def main(end_time=DEFAULT_END_TIME, num_taxis=DEFAULT_NUMBER_OF_TAXIS,\n",
    "         seed=None):\n",
    "    \"\"\"Initialize random generator, build procs and run simulation\"\"\"\n",
    "    if seed is not None:\n",
    "        random.seed(seed)  # get reproducible results\n",
    "\n",
    "    taxis = {i: taxi_process(i, (i+1)*2, i*DEPARTURE_INTERVAL) for i in range(num_taxis)}\n",
    "    sim = Simulator(taxis)\n",
    "    sim.run(end_time)\n",
    "\n",
    "\n",
    "\n",
    "main()"
   ]
  },
  {
   "cell_type": "code",
   "execution_count": null,
   "metadata": {},
   "outputs": [],
   "source": []
  }
 ],
 "metadata": {
  "kernelspec": {
   "display_name": "Python 3",
   "language": "python",
   "name": "python3"
  },
  "language_info": {
   "codemirror_mode": {
    "name": "ipython",
    "version": 3
   },
   "file_extension": ".py",
   "mimetype": "text/x-python",
   "name": "python",
   "nbconvert_exporter": "python",
   "pygments_lexer": "ipython3",
   "version": "3.8.4"
  }
 },
 "nbformat": 4,
 "nbformat_minor": 2
}
