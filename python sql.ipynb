{
 "cells": [
  {
   "cell_type": "code",
   "execution_count": null,
   "metadata": {},
   "outputs": [],
   "source": [
    "from psycopg2 import connect"
   ]
  },
  {
   "cell_type": "code",
   "execution_count": null,
   "metadata": {},
   "outputs": [],
   "source": [
    "conn = connect(host='localhost', dbname='test1')\n",
    "conn"
   ]
  },
  {
   "cell_type": "code",
   "execution_count": null,
   "metadata": {},
   "outputs": [],
   "source": [
    "with conn.cursor() as cur:\n",
    "    cur.execute('select ndoc, ddate from recept limit 10')\n",
    "    for row in cur:\n",
    "        print(row[0],row[1])"
   ]
  },
  {
   "cell_type": "code",
   "execution_count": null,
   "metadata": {},
   "outputs": [],
   "source": [
    "conn.close()"
   ]
  },
  {
   "cell_type": "code",
   "execution_count": null,
   "metadata": {},
   "outputs": [],
   "source": [
    "conn = connect(host='localhost', dbname='test1')\n",
    "with conn.cursor() as cur:\n",
    "    cur.execute('select ndoc, ddate from recept limit 10')\n",
    "    while True:\n",
    "        row = cur.fetchone()\n",
    "        if row is None: \n",
    "            break\n",
    "        print(row[0],row[1])\n",
    "conn.close()"
   ]
  },
  {
   "cell_type": "code",
   "execution_count": null,
   "metadata": {},
   "outputs": [],
   "source": [
    "conn = connect(host='localhost', dbname='test1')\n",
    "with conn.cursor() as cur:\n",
    "    cur.execute('select ndoc, ddate from recept limit 10')\n",
    "    while True:\n",
    "        rows = cur.fetchmany(4)\n",
    "        if len(rows) == 0: \n",
    "            break\n",
    "        print(rows)\n",
    "conn.close()"
   ]
  },
  {
   "cell_type": "code",
   "execution_count": null,
   "metadata": {},
   "outputs": [],
   "source": [
    "import io\n",
    "conn = connect(host='localhost', dbname='test1')\n",
    "with conn.cursor() as cur:\n",
    "    with io.StringIO() as s:\n",
    "        cur.copy_to(table='region', file = s)\n",
    "        print(s.getvalue())\n",
    "conn.close()"
   ]
  },
  {
   "cell_type": "code",
   "execution_count": null,
   "metadata": {},
   "outputs": [],
   "source": [
    "conn = connect(host='localhost', dbname='test1')\n",
    "with conn.cursor() as cur:\n",
    "    with open('rc.tsv','w') as s:\n",
    "        # cur.copy_to(table='region', file = s)\n",
    "        cur.copy_to(table='(select * from region where id < 1000)', file = s)\n",
    "conn.close()"
   ]
  },
  {
   "cell_type": "code",
   "execution_count": null,
   "metadata": {},
   "outputs": [],
   "source": [
    "conn = connect(host='localhost', dbname='test1')\n",
    "with conn.cursor() as cur:\n",
    "    with open('rc2.tsv','r') as s:\n",
    "        cur.copy_from(table='region', file = s)\n",
    "conn.commit()\n",
    "conn.close()"
   ]
  },
  {
   "cell_type": "code",
   "execution_count": null,
   "metadata": {},
   "outputs": [],
   "source": [
    "conn = connect(host='localhost', dbname='test1')\n",
    "with conn.cursor() as cur:\n",
    "    cur.execute('delete from region where id > 2')\n",
    "    conn.commit() \n",
    "conn.close()"
   ]
  },
  {
   "cell_type": "code",
   "execution_count": null,
   "metadata": {},
   "outputs": [],
   "source": [
    "conn = connect(host='localhost', dbname='test1')\n",
    "with conn.cursor() as cur:\n",
    "    cur.execute(\"insert into city(name, region) values(%s, %s)\", ['Мой город', 1]) \n",
    "    conn.commit()\n",
    "conn.close()"
   ]
  },
  {
   "cell_type": "code",
   "execution_count": null,
   "metadata": {},
   "outputs": [],
   "source": [
    "%load_ext sql"
   ]
  },
  {
   "cell_type": "code",
   "execution_count": null,
   "metadata": {},
   "outputs": [],
   "source": [
    "%sql postgresql://localhost:5432/test1"
   ]
  },
  {
   "cell_type": "code",
   "execution_count": null,
   "metadata": {},
   "outputs": [],
   "source": [
    "%sql \\l"
   ]
  },
  {
   "cell_type": "code",
   "execution_count": null,
   "metadata": {},
   "outputs": [],
   "source": [
    "# %sql drop database my_test;\n",
    "# %sql create database my_test;"
   ]
  },
  {
   "cell_type": "code",
   "execution_count": null,
   "metadata": {},
   "outputs": [],
   "source": [
    "%sql postgresql://localhost:5432/my_test"
   ]
  },
  {
   "cell_type": "code",
   "execution_count": null,
   "metadata": {},
   "outputs": [],
   "source": [
    "%%sql\n",
    "create table my_t(id int,\n",
    " name varchar(255)                \n",
    ");\n",
    "insert into my_t(id,name) values (1,'test');"
   ]
  },
  {
   "cell_type": "code",
   "execution_count": null,
   "metadata": {},
   "outputs": [],
   "source": [
    "%%sql\n",
    "select * from my_t"
   ]
  },
  {
   "cell_type": "code",
   "execution_count": null,
   "metadata": {},
   "outputs": [],
   "source": [
    "res = %sql select * from my_t\n",
    "res.DataFrame()"
   ]
  },
  {
   "cell_type": "code",
   "execution_count": null,
   "metadata": {},
   "outputs": [],
   "source": [
    "%%sql postgresql://localhost:5432/ws-dss\n",
    "select * from ws_methods limit 2"
   ]
  },
  {
   "cell_type": "code",
   "execution_count": null,
   "metadata": {},
   "outputs": [],
   "source": [
    "result = %sql select * from ws_methods limit 2\n",
    "result.csv(filename='res.csv')"
   ]
  },
  {
   "cell_type": "code",
   "execution_count": null,
   "metadata": {},
   "outputs": [],
   "source": [
    "import pandas as pd\n",
    "from sqlalchemy import create_engine\n",
    "engine = create_engine('postgresql://localhost:5432/my_test')\n",
    "my_df=pd.read_csv('res.csv')\n",
    "my_df.to_sql('my_table1',engine,if_exists='replace')"
   ]
  },
  {
   "cell_type": "code",
   "execution_count": null,
   "metadata": {
    "scrolled": true
   },
   "outputs": [],
   "source": [
    "pd.read_sql('select * from ws_methods limit 2',con='postgresql://localhost:5432/ws-dss')\n"
   ]
  },
  {
   "cell_type": "code",
   "execution_count": null,
   "metadata": {},
   "outputs": [],
   "source": [
    "pd.read_sql('select * from my_table1',engine)"
   ]
  },
  {
   "cell_type": "code",
   "execution_count": null,
   "metadata": {},
   "outputs": [],
   "source": [
    "import pandas as pd\n",
    "# Так не делать!\n",
    "pd.read_sql('select * from ws_jobs limit 1',con='postgresql://localhost:5432/ws-dss')\n",
    "pd.read_sql('select * from ws_methods limit 2',con='postgresql://localhost:5432/ws-dss')\n",
    "pd.read_sql('select * from ws_models limit 3',con='postgresql://localhost:5432/ws-dss', index_col = 'id')"
   ]
  },
  {
   "cell_type": "code",
   "execution_count": null,
   "metadata": {},
   "outputs": [],
   "source": [
    "i = 0\n",
    "for chunk in pd.read_sql(\"SELECT * FROM ws_jobs\",\n",
    "       'postgresql://localhost:5432/ws-dss', chunksize=5):\n",
    "    print(f\"chunk {i}\")\n",
    "    print(chunk)\n",
    "    i += 1\n",
    "    if i > 3:\n",
    "        break"
   ]
  },
  {
   "cell_type": "code",
   "execution_count": null,
   "metadata": {},
   "outputs": [],
   "source": [
    "from sqlalchemy import create_engine\n",
    "from pandas.io import sql\n",
    "engine = create_engine('postgresql://localhost:5432/my_test')\n",
    "\n",
    "sql.execute(\"INSERT INTO my_table1(id, name) VALUES(%s, %s)\", engine,\n",
    "            params=[(2, 'name'),(20, 'name20')])\n",
    "pd.read_sql('SELECT * FROM my_table1', engine)"
   ]
  },
  {
   "cell_type": "code",
   "execution_count": null,
   "metadata": {},
   "outputs": [],
   "source": [
    "sql.execute(\"INSERT INTO my_table1(id, name) VALUES(%(id)s, %(name)s)\", engine,\n",
    "            params={'id': 3, 'name': 'name3'})\n",
    "pd.read_sql('SELECT * FROM my_table1', engine)"
   ]
  },
  {
   "cell_type": "code",
   "execution_count": null,
   "metadata": {},
   "outputs": [],
   "source": [
    "%timeit my_df = pd.read_sql('SELECT * FROM recept', 'postgresql://localhost:5432/test1')\n",
    "len(my_df)"
   ]
  },
  {
   "cell_type": "code",
   "execution_count": null,
   "metadata": {},
   "outputs": [],
   "source": [
    "engine = create_engine('postgresql://localhost:5432/test1')\n",
    "%timeit my_df = pd.read_sql('SELECT * FROM recept', engine)\n",
    "my_df = pd.read_sql('SELECT * FROM recept', engine)\n",
    "len(my_df)"
   ]
  },
  {
   "cell_type": "code",
   "execution_count": null,
   "metadata": {},
   "outputs": [],
   "source": [
    "import tempfile\n",
    "conn = engine.raw_connection()\n",
    "def my_read(conn):\n",
    "    with tempfile.TemporaryFile() as tmpfile:\n",
    "        cur = conn.cursor()\n",
    "        cur.copy_expert(\"COPY recept TO STDOUT WITH CSV HEADER\", tmpfile)\n",
    "        tmpfile.seek(0)\n",
    "        my_df = pd.read_csv(tmpfile)\n",
    "    return my_df\n",
    "%timeit my_df = my_read(conn)\n",
    "len(my_df)"
   ]
  },
  {
   "cell_type": "code",
   "execution_count": null,
   "metadata": {},
   "outputs": [],
   "source": []
  }
 ],
 "metadata": {
  "kernelspec": {
   "display_name": "Python 3",
   "language": "python",
   "name": "python3"
  },
  "language_info": {
   "codemirror_mode": {
    "name": "ipython",
    "version": 3
   },
   "file_extension": ".py",
   "mimetype": "text/x-python",
   "name": "python",
   "nbconvert_exporter": "python",
   "pygments_lexer": "ipython3",
   "version": "3.9.0"
  }
 },
 "nbformat": 4,
 "nbformat_minor": 2
}
